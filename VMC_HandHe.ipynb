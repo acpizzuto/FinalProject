import numpy as np
import matplotlib.pyplot as plt
import math
from mpl_toolkits.mplot3d import Axes3D
from matplotlib import cm

###HYDROGEN###

def metro_H(N, gam,a, b,c): #metropolis
    E = 0.0
    Esq = 0.0
    sl = 2 #step length
    r = sl*np.array([np.random.uniform(-1,1),np.random.uniform(-1,1),np.random.uniform(-1,1)]) #random steps from -1 to 1
    inc = .2
    gamstep = .05
    burnin = 0
    step = 0
    
    for i in range(N):
        r_test= r + inc*sl*np.array([np.random.uniform(-1,1),np.random.uniform(-1,1),np.random.uniform(-1,1)]) 
        step = step+1
        if prob_H(r_test,gam,a,b,c) >= prob_H(r,gam,a,b,c): #accept move
            r = r_test
        else:
            rando = np.random.rand()
            if rando < prob_H(r_test,gam,a,b,c)/prob_H(r,gam,a,b,c): #accept w set prob
                r = r_test
                
        if step > burnin:
            E = E+ E_H(r,gam,a,b,c)/(N-burnin) #calculate energy at r
            Esq = Esq+ (E_H(r,gam,a,b,c)**2)/(N-burnin) #calculate E^2 at r

    
    return E, Esq

def VMC_H(gam, a, b, c):
    gamma0 = gam
    gamma_steps = 3
    a_iterations = 1 #iterating through polynomials ((not using rn))
    N_metro = 1000 #metropolis steps
    rws = 200 #no of random walkers
    step = 0
    
    burnin = 0
    gamstep = .25
    #initialize final plot lists
    energies = []
    gammas = []
    variances = []

    
    for k in range(a_iterations): #for all as...
        gam = gamma0  #reset gamma
        for i in range(gamma_steps): #loop through some gammas and find energy
            E = 0.0
            Esq = 0.0
            #rej = 0
            for j in range(rws): 
                E_met, Esq_met = metro_H(N_metro, gam,a,b,c) #apply metropolis
                
                E = E+ (E_met/rws) #average quantities over walkers
                Esq = Esq+ (Esq_met/rws)
               
            energies = energies+ [E]
            gammas = gammas + [gam]
            variances = variances +[abs(E**2 - Esq)]
            print('gamma = ', gam, 'E = ', E)
            gam = gam + gamstep
       
        #a = a + 1
    return energies, gammas, variances
  
def E_H(r,gam,a,b,c): #the local energy, from applying the hamiltonian to the trial wavefunction
    abs_r = np.sqrt(r[0]**2 + r[1]**2 + r[2]**2)
    energy = -1/abs_r -(gam**2)/2 + gam/abs_r + (gam*(2*c*abs_r+b)-c)/(a+b*abs_r+c*(abs_r**2)) - (2*c*abs_r+b)/(abs_r*(a+b*abs_r+c*(abs_r**2)))
    return energy 
    

def prob_H(r,gam,a,b,c): #abs(psi^2)
    abs_r = np.sqrt(r[0]**2 + r[1]**2 + r[2]**2)
    psi_H = (a+b*abs_r+c*(abs_r**2))*np.exp(-gam*abs_r)
    return psi_H**2  
    
#and run to optimize gamma, min energy, etc  
energy100, gamma100, variance100, = VMC_H(a =1 , b =0 , c = 0, gam = .5)
energy200, gamma200, variance200, = VMC_H(a =-2 , b =1 , c = 0, gam = 0)
energy300, gamma300, variance300 = VMC_H(a =-1.5 , b =1, c = -(1/9), gam = 0)

print('Done!')

###HELIUM###

def E_He(r1,r2,gam,zi): #energy?
    abs_r1 = np.sqrt(r1[0]**2 + r1[1]**2 + r1[2]**2)
    abs_r2 = np.sqrt(r2[0]**2 + r2[1]**2 + r2[2]**2)
    abs_r12 = np.sqrt((r1[0]-r2[0])**2 + (r1[1]-r2[1])**2 + (r1[2]-r2[2])**2)
    r1hat = r1/abs_r1
    r2hat = r2/abs_r2
    r1r2 = r1-r2
    r1r2thing = (r1hat[0]-r2hat[0])*r1r2[0] +(r1hat[1]-r2hat[1])*r1r2[1]+(r1hat[2]-r2hat[2])*r1r2[2] 
    eloc = r1r2thing/(abs_r12*(1+gam*abs_r12)**2)-1/(abs_r12*(1+gam**abs_r12)**3)-1/(4*(1+gam*abs_r12)**4)+1/abs_r12-4
    return eloc


def prob_He(r1,r2,gam,zi): #psi^2
    abs_r1 = np.sqrt(r1[0]**2 + r1[1]**2 + r1[2]**2)
    abs_r2 = np.sqrt(r2[0]**2 + r2[1]**2 + r2[2]**2)
    abs_r12 = np.sqrt((r1[0]-r2[0])**2 + (r1[1]-r2[1])**2 + (r1[2]-r2[2])**2)
    psi_He = np.exp(-zi*(abs_r1+abs_r2))*np.exp(abs_r12/(zi*(1+gam*abs_r12)))
    return abs(psi_He)**2

def metro_He(N, gam,zi): #metropolis again
    E = 0
    Esq = 0
    step = 0
    burnin = 1000 #throw some points out because this is way more demanding??
    inc= .5
    
    sl = 2
    r1 = sl*np.array([np.random.uniform(-1,1),np.random.uniform(-1,1),np.random.uniform(-1,1)])
    r2 = sl*np.array([np.random.uniform(-1,1),np.random.uniform(-1,1),np.random.uniform(-1,1)])  #3D moves...

    for i in range(N):
        rando = np.random.rand()
        step = step + 1
        if rando <= 0.5: #randomly picking between r1 and r2
            r1_test = r1 + inc*sl*np.array([np.random.uniform(-1,1),np.random.uniform(-1,1),np.random.uniform(-1,1)])
            r2_test = r2
        else:
            r1_test = r1
            r2_test = r2 + inc*sl*np.array([np.random.uniform(-1,1),np.random.uniform(-1,1),np.random.uniform(-1,1)])
        if prob_He(r1_test,r2_test,gam,zi) >= prob_He(r1,r2,gam,zi): #accept
            r1 = r1_test
            r2 = r2_test
        else:
            rando2 = np.random.rand()
            if prob_He(r1_test,r2_test,gam,zi)/prob_He(r1,r2,gam,zi) > rando2:  #accept w prob
                r1 = r1_test
                r2 = r2_test
                
        if step > burnin:
            E = E+ E_He(r1,r2,gam,zi)/(N-burnin) #add stuff up
            Esq = Esq+ (E_He(r1,r2,gam,zi)**2)/(N-burnin)
            r12  = (r1[0]-r2[0])**2 + (r1[1]-r2[1])**2 + (r1[2]-r2[1])**2
            
    return E, Esq 


def VMC_He(gam, zi):
    
    gamma0 = gam
    z_iterations = 1
    gamma_its = 3
    N_metro = 5000
    rws = 200
    dz = 1
    dgam = .1
    
    energies_He = []
    gammas_He = []
    variances_He = []

    for k in range(z_iterations):
        gam  = gamma0
        for i in range(gamma_its):
            E = 0
            Esq = 0
    
            for j in range(rws): 
                E_met, Esq_met = metro_He(N_metro, gam,zi)
                
                E = E+ E_met/rws #calculate energies
                Esq = Esq+ Esq_met/rws
                
            print('z= ', zi, 'gamma= ', gam, 'E = ', E)  #track parameters and stuff
  
            energies_He = energies_He + [E]
            gammas_He = gammas_He + [gam]
            variances_He = variances_He +[abs(E**2 - Esq)]
            
            gam = gam + dgam
        zi = zi + dz #z parameter- not using rn
    return energies_He, gammas_He, variances_He

energies_He, gammas_He, variances_He= VMC_He(gam = .1, zi = 2.0)

print('Done!')
